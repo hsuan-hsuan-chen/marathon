{
 "cells": [
  {
   "cell_type": "code",
   "execution_count": 3,
   "metadata": {},
   "outputs": [
    {
     "data": {
      "text/plain": [
       "0.7716049785055654"
      ]
     },
     "execution_count": 3,
     "metadata": {},
     "output_type": "execute_result"
    }
   ],
   "source": [
    "from scipy import stats\n",
    "from scipy import optimize\n",
    "import matplotlib.pyplot as plt\n",
    "import numpy as np\n",
    "import random \n",
    "%matplotlib inline\n",
    "\n",
    "np.random.seed(0)\n",
    "xdata = np.linspace(-5, 5, num = 50)\n",
    "Obs = 2.9 * np.sin(1.5 * xdata ) + np.random.normal(size = 50)\n",
    "Sim = 2.9 * np.sin(1.5 * xdata )\n",
    "\n",
    "def MSE(Sim, Obs):\n",
    "    return ((Sim - Obs) ** 2).mean()\n",
    "def NSE(Sim, Obs):\n",
    "    return 1 - (sum((Sim - Obs) ** 2) / sum((Obs - Obs.mean()) ** 2))\n",
    "\n",
    "NSE(Sim, Obs)"
   ]
  },
  {
   "cell_type": "code",
   "execution_count": 4,
   "metadata": {},
   "outputs": [
    {
     "data": {
      "text/plain": [
       "-0.04339032904413376"
      ]
     },
     "execution_count": 4,
     "metadata": {},
     "output_type": "execute_result"
    }
   ],
   "source": [
    "def R(Sim, Obs):\n",
    "    return (sum((Sim - Sim.mean()) * (Obs - Obs.mean())) / (sum((Sim - Sim.mean()) ** 2) * sum((Obs - Obs.mean()) ** 2)) ** 0.5)\n",
    "def Alpha(Sim, Obs):\n",
    "    return(np.var(Sim) / np.var(Obs))\n",
    "def Beta(Sim, Obs):\n",
    "    return(Sim.mean() / Obs.mean())\n",
    "def KGE(Sim, Obs):\n",
    "    ED = ((R(Sim, Obs) - 1) ** 2 + (Alpha(Sim, Obs) - 1) ** 2 + (Beta(Sim, Obs) - 1) ** 2) ** 0.5\n",
    "    return(1 - ED)\n",
    "KGE(Sim,Obs)"
   ]
  },
  {
   "cell_type": "code",
   "execution_count": null,
   "metadata": {},
   "outputs": [],
   "source": []
  }
 ],
 "metadata": {
  "kernelspec": {
   "display_name": "Python 3",
   "language": "python",
   "name": "python3"
  },
  "language_info": {
   "codemirror_mode": {
    "name": "ipython",
    "version": 3
   },
   "file_extension": ".py",
   "mimetype": "text/x-python",
   "name": "python",
   "nbconvert_exporter": "python",
   "pygments_lexer": "ipython3",
   "version": "3.8.5"
  }
 },
 "nbformat": 4,
 "nbformat_minor": 4
}
